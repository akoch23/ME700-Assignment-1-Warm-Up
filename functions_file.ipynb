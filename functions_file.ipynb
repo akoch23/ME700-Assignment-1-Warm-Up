{
 "cells": [
  {
   "cell_type": "code",
   "execution_count": 9,
   "id": "c5733c99",
   "metadata": {},
   "outputs": [],
   "source": [
    "def base_function(x: float):\n",
    "    # Given a float value, will substitute it for variables in below equation and return value. Used to determine the values of f(a), f(b), and f(c) \n",
    "    function_1 = (x)**2 + 5*x - 1\n",
    "    return function_1"
   ]
  },
  {
   "cell_type": "code",
   "execution_count": 11,
   "id": "070f6396",
   "metadata": {},
   "outputs": [],
   "source": [
    "def value_average(x: float, y:float):\n",
    "    # Given two float values, will return their average. Used to determine the value of c.\n",
    "    value = (x+y)/2\n",
    "    return value"
   ]
  },
  {
   "cell_type": "code",
   "execution_count": null,
   "id": "6577e367",
   "metadata": {},
   "outputs": [],
   "source": [
    "import numpy as np\n",
    "# The numpy function same_sign can directly compare the sign of two values, in this case useful for comparing f(c) to f(a)\n",
    "\n",
    "def same_sign(x,y):\n",
    "    return np.sign(x)==np.sign(y)"
   ]
  },
  {
   "cell_type": "code",
   "execution_count": 12,
   "id": "e88e7746",
   "metadata": {},
   "outputs": [],
   "source": [
    "def convergence_check(x: float, y:float, z:float, w:float, j:float, k:float, l:float):\n",
    "    # Given the values (in order) of a, b, c, e (convergence), f(a), f(b), and f(c) as floats, this function will:\n",
    "    # Compare the absolute value of the difference between a and c to convergence and the absolute value of f(c) to convergence\n",
    "    \n",
    "    if abs(z-x)<w or abs(l)<w:\n",
    "        return z\n",
    "    else:\n",
    "        if same_sign(l,j):\n",
    "            a = z\n",
    "        else:\n",
    "            b = z"
   ]
  }
 ],
 "metadata": {
  "kernelspec": {
   "display_name": "Python 3 (ipykernel)",
   "language": "python",
   "name": "python3"
  },
  "language_info": {
   "codemirror_mode": {
    "name": "ipython",
    "version": 3
   },
   "file_extension": ".py",
   "mimetype": "text/x-python",
   "name": "python",
   "nbconvert_exporter": "python",
   "pygments_lexer": "ipython3",
   "version": "3.10.12"
  }
 },
 "nbformat": 4,
 "nbformat_minor": 5
}
