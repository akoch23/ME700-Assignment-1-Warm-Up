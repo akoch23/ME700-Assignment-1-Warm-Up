{
 "cells": [
  {
   "cell_type": "code",
   "execution_count": 9,
   "id": "c5733c99",
   "metadata": {},
   "outputs": [],
   "source": [
    "def base_function_1(x: float):\n",
    "    # Parabolic Function\n",
    "    # Given a float value, will substitute it for variables in below equation and return value. Used to determine the values of f(a), f(b), and f(c) \n",
    "    function_1 = (x)**2 + 5*x - 6\n",
    "    return function_1"
   ]
  },
  {
   "cell_type": "code",
   "execution_count": null,
   "id": "9634fd9f",
   "metadata": {},
   "outputs": [],
   "source": [
    "def base_function_2(x: float):\n",
    "    # Third-Order Function\n",
    "    # Given a float value, will substitute it for variables in below equation and return value. Used to determine the values of f(a), f(b), and f(c) \n",
    "    function_2 = (x)**3 + x^2 + 2*x + 8\n",
    "    return function_2"
   ]
  },
  {
   "cell_type": "code",
   "execution_count": null,
   "id": "106a449e",
   "metadata": {},
   "outputs": [],
   "source": [
    "def base_function_3(x: float):\n",
    "    # Linear Function\n",
    "    # Given a float value, will substitute it for variables in below equation and return value. Used to determine the values of f(a), f(b), and f(c) \n",
    "    function_3 = 5*x + 10\n",
    "    return function_3"
   ]
  },
  {
   "cell_type": "code",
   "execution_count": null,
   "id": "b272b45b",
   "metadata": {},
   "outputs": [],
   "source": [
    "def base_function_4(x: float):\n",
    "    # Simple D=VT problem: How far will an object travel (in either the positive or negative direction) in 10 seconds?\n",
    "    # Given a float value, will substitute it for variables in below equation and return value. Used to determine the values of f(a), f(b), and f(c) \n",
    "    function_4 = x*10\n",
    "    return function_4"
   ]
  },
  {
   "cell_type": "code",
   "execution_count": null,
   "id": "6edb0a63",
   "metadata": {},
   "outputs": [],
   "source": [
    "def base_function_5(x: float):\n",
    "    # F = u_s*m*g problem: What is the minimum horizontal force required to overcome the static friction coefficient of a chosen mass?\n",
    "    # Given a float value, will substitute it for variables in below equation and return value. Used to determine the values of f(a), f(b), and f(c) \n",
    "    u_s = 0.35\n",
    "    function_5 = u_s * x * 9.8\n",
    "    return function_5"
   ]
  },
  {
   "cell_type": "code",
   "execution_count": 11,
   "id": "070f6396",
   "metadata": {},
   "outputs": [],
   "source": [
    "def value_average(x: float, y:float):\n",
    "    # Given two float values, will return their average. Used to determine the value of c.\n",
    "    value = (x+y)/2\n",
    "    return value"
   ]
  },
  {
   "cell_type": "code",
   "execution_count": null,
   "id": "6577e367",
   "metadata": {},
   "outputs": [],
   "source": [
    "# Old function that used numpy module to compare the signs of the values of f(a) and f(c)\n",
    "\n",
    "# import numpy as np\n",
    "# The numpy function same_sign can directly compare the sign of two values, in this case useful for comparing f(c) to f(a)\n",
    "\n",
    "# def same_sign(x,y):\n",
    "   # return np.sign(x)==np.sign(y)"
   ]
  },
  {
   "cell_type": "code",
   "execution_count": 12,
   "id": "e88e7746",
   "metadata": {},
   "outputs": [],
   "source": [
    "def convergence_check(x: float, y:float, z:float, w:float, j:float, k:float, l:float):\n",
    "    # Given the values (in order) of a, b, c, e (convergence), f(a), f(b), and f(c) as floats, this function will:\n",
    "    # Compare the absolute value of the difference between a and c to convergence and the absolute value of f(c) to convergence\n",
    "    \n",
    "    if abs(z-x)<w or abs(l)<w:\n",
    "        return z\n",
    "    elif j*l >= 0:\n",
    "        x = z\n",
    "    else:\n",
    "        y = z\n",
    "    "
   ]
  }
 ],
 "metadata": {
  "kernelspec": {
   "display_name": "Python 3 (ipykernel)",
   "language": "python",
   "name": "python3"
  },
  "language_info": {
   "codemirror_mode": {
    "name": "ipython",
    "version": 3
   },
   "file_extension": ".py",
   "mimetype": "text/x-python",
   "name": "python",
   "nbconvert_exporter": "python",
   "pygments_lexer": "ipython3",
   "version": "3.10.12"
  }
 },
 "nbformat": 4,
 "nbformat_minor": 5
}
