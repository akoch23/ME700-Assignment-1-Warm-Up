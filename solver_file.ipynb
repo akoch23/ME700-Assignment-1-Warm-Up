{
 "cells": [
  {
   "cell_type": "code",
   "execution_count": 3,
   "id": "d47c1d4e",
   "metadata": {
    "scrolled": true
   },
   "outputs": [
    {
     "name": "stdout",
     "output_type": "stream",
     "text": [
      "Bisection Solver Initiated.\n",
      "Enter an integer value from 1 - 5 to select the function to be used by the solver: 5\n",
      "Enter a value for tolerance (preferably a number close to zero, like 10^-2): 0.01\n",
      "Enter an integer value for a (left coordinate): -6\n",
      "Enter an integer value for b (right coordinate): 10\n",
      "If a = -6.0 and b = 10.0 then c = 2.0\n",
      "f(a) = -20.58 , f(b) = 34.300000000000004 , f(c) = 6.86\n",
      "For the selected inputs, a root of the function is:  None\n"
     ]
    }
   ],
   "source": [
    "%run functions_file.ipynb\n",
    "\n",
    "print(\"Bisection Solver Initiated.\")\n",
    "\n",
    "def float_input(prompt):\n",
    "    while True:\n",
    "        try:\n",
    "            user_input = float(input(prompt))\n",
    "            return user_input\n",
    "        except ValueError:\n",
    "            print(\"Please enter a valid integer.\")\n",
    "            \n",
    "func_select = int(input(\"Enter an integer value from 1 - 5 to select the function to be used by the solver: \"))\n",
    "try:\n",
    "    if func_select < 1 or func_select > 5:\n",
    "            ValueError\n",
    "    elif func_select == 1:\n",
    "            base_function = base_function_1\n",
    "    elif func_select == 2:\n",
    "            base_function = base_function_2\n",
    "    elif func_select == 3:\n",
    "            base_function = base_function_3\n",
    "    elif func_select == 4:\n",
    "            base_function = base_function_4\n",
    "    elif func_select == 5:\n",
    "            base_function = base_function_5\n",
    "except ValueError:\n",
    "    print(\"Please select a number from 1 to 5.\")\n",
    "    \n",
    "e = float_input(\"Enter a value for tolerance (preferably a number close to zero, like 10^-2): \")  \n",
    "\n",
    "a = float_input(\"Enter an integer value for a (left coordinate): \")\n",
    "b = float_input(\"Enter an integer value for b (right coordinate): \")\n",
    "c = value_average(a,b)\n",
    "\n",
    "if a > b:\n",
    "    raise ValueError(\"Please enter a value of a that is smaller than b.\")\n",
    "\n",
    "print(\"If a =\", a, \"and b =\", b, \"then c =\", c)\n",
    "\n",
    "func_a = base_function(a)\n",
    "func_b = base_function(b)\n",
    "func_c = base_function(c)\n",
    "\n",
    "print(\"f(a) =\", func_a,\", f(b) =\", func_b,\", f(c) =\", func_c)\n",
    "\n",
    "final_result = convergence_check(a,b,c,e,func_a,func_b,func_c)\n",
    "print(\"For the selected inputs, a root of the function is: \", final_result)\n"
   ]
  },
  {
   "cell_type": "code",
   "execution_count": null,
   "id": "08a8d2dd",
   "metadata": {},
   "outputs": [],
   "source": []
  }
 ],
 "metadata": {
  "kernelspec": {
   "display_name": "Python 3 (ipykernel)",
   "language": "python",
   "name": "python3"
  },
  "language_info": {
   "codemirror_mode": {
    "name": "ipython",
    "version": 3
   },
   "file_extension": ".py",
   "mimetype": "text/x-python",
   "name": "python",
   "nbconvert_exporter": "python",
   "pygments_lexer": "ipython3",
   "version": "3.10.12"
  }
 },
 "nbformat": 4,
 "nbformat_minor": 5
}
