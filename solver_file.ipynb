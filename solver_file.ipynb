{
 "cells": [
  {
   "cell_type": "code",
   "execution_count": null,
   "id": "b8f222a8",
   "metadata": {},
   "outputs": [],
   "source": [
    "%run functions_file.ipynb\n",
    "\n",
    "def float_input(prompt):\n",
    "    while True:\n",
    "        try:\n",
    "            user_input = float(input(prompt))\n",
    "            return user_input\n",
    "        except ValueError:\n",
    "            print(\"Please enter a valid integer.\")\n",
    "            \n",
    "e = float_input(\"Enter a value for tolerance (preferably a number close to zero, like 10^-2): \")\n",
    "            \n",
    "a = float_input(\"Enter a value for a: \")\n",
    "b = float_input(\"Enter a value for b: \")\n",
    "c = value_average(a,b)\n",
    "\n",
    "print(\"If a =\", a, \"and b =\", b, \"then c =\", c)\n",
    "\n",
    "func_a = base_function(a)\n",
    "func_b = base_function(b)\n",
    "func_c = base_function(c)\n",
    "\n",
    "print(\"f(a) =\", func_a,\", f(b) =\", func_b,\", f(c) =\", func_c)\n",
    "\n",
    "convergence_check(a,b,c,e,func_a,func_b,func_c)"
   ]
  }
 ],
 "metadata": {
  "kernelspec": {
   "display_name": "Python 3 (ipykernel)",
   "language": "python",
   "name": "python3"
  },
  "language_info": {
   "codemirror_mode": {
    "name": "ipython",
    "version": 3
   },
   "file_extension": ".py",
   "mimetype": "text/x-python",
   "name": "python",
   "nbconvert_exporter": "python",
   "pygments_lexer": "ipython3",
   "version": "3.10.12"
  }
 },
 "nbformat": 4,
 "nbformat_minor": 5
}
