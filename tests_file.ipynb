{
 "cells": [
  {
   "cell_type": "code",
   "execution_count": 8,
   "id": "faaba0f6",
   "metadata": {},
   "outputs": [],
   "source": [
    "#Note: This file is incomplete\n",
    "\n",
    "import numpy as np\n",
    "%run functions_file.ipynb\n",
    "\n",
    "def test_value_average():\n",
    "    x = 10\n",
    "    y = 15\n",
    "    assert value_average(x,y) == 25\n",
    "    x = 10\n",
    "    y = -5\n",
    "    assert value_average(x,y) == 5\n",
    "    x = 5\n",
    "    y = -5\n",
    "    assert value_average(x,y) == 0\n",
    "    x = -3\n",
    "    y = 9\n",
    "    assert value_average(x,y) == 6\n",
    "    x = 2.5\n",
    "    y = -1.5\n",
    "    assert value_average(x,y) == 1\n",
    "    \n",
    "def test_base_function():\n",
    "    x = 10\n",
    "    assert base_function(x) == 31\n",
    "    x = 5\n",
    "    assert base_function(x) == 16\n",
    "    x = 3\n",
    "    assert base_function(x) == 10\n",
    "    x = -2\n",
    "    assert base_function(x) == -5\n",
    "    x = -4\n",
    "    assert base_function(x) == -11\n",
    "    \n",
    "def \n",
    "    "
   ]
  }
 ],
 "metadata": {
  "kernelspec": {
   "display_name": "Python 3 (ipykernel)",
   "language": "python",
   "name": "python3"
  },
  "language_info": {
   "codemirror_mode": {
    "name": "ipython",
    "version": 3
   },
   "file_extension": ".py",
   "mimetype": "text/x-python",
   "name": "python",
   "nbconvert_exporter": "python",
   "pygments_lexer": "ipython3",
   "version": "3.10.12"
  }
 },
 "nbformat": 4,
 "nbformat_minor": 5
}
